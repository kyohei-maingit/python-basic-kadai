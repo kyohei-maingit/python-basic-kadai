{
  "nbformat": 4,
  "nbformat_minor": 0,
  "metadata": {
    "colab": {
      "provenance": []
    },
    "kernelspec": {
      "name": "python3",
      "display_name": "Python 3"
    },
    "language_info": {
      "name": "python"
    }
  },
  "cells": [
    {
      "cell_type": "code",
      "execution_count": 4,
      "metadata": {
        "colab": {
          "base_uri": "https://localhost:8080/"
        },
        "id": "3oSfgAEnVvIa",
        "outputId": "5bb2f901-a966-4959-d37b-268a72eccb3b"
      },
      "outputs": [
        {
          "output_type": "stream",
          "name": "stdout",
          "text": [
            "Area of trapezoid is:  75.0\n"
          ]
        }
      ],
      "source": [
        "upper = 10\n",
        "bottom = 20\n",
        "height = 5\n",
        "area_trapezoid = (upper + bottom) * height / 2\n",
        "print(\"Area of trapezoid is: \", area_trapezoid)"
      ]
    }
  ]
}