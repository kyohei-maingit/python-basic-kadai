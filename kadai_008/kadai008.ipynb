{
 "cells": [
  {
   "cell_type": "code",
   "execution_count": 46,
   "metadata": {},
   "outputs": [
    {
     "name": "stdout",
     "output_type": "stream",
     "text": [
      "40\n",
      "Buzz\n"
     ]
    }
   ],
   "source": [
    "import random\n",
    "var = random.randint(1,100)\n",
    "print(var)\n",
    "\n",
    "if var %3 ==0 and var % 5 == 0:\n",
    "    print(\"FizzBuzz\")\n",
    "\n",
    "elif var % 3 == 0:\n",
    "    print(\"Fizz\")\n",
    "\n",
    "elif var % 5 == 0:\n",
    "    print(\"Buzz\")\n",
    "\n",
    "else:\n",
    "    print(var)\n",
    "\n"
   ]
  },
  {
   "cell_type": "code",
   "execution_count": null,
   "metadata": {},
   "outputs": [],
   "source": []
  }
 ],
 "metadata": {
  "kernelspec": {
   "display_name": "Python 3",
   "language": "python",
   "name": "python3"
  },
  "language_info": {
   "codemirror_mode": {
    "name": "ipython",
    "version": 3
   },
   "file_extension": ".py",
   "mimetype": "text/x-python",
   "name": "python",
   "nbconvert_exporter": "python",
   "pygments_lexer": "ipython3",
   "version": "3.13.1"
  }
 },
 "nbformat": 4,
 "nbformat_minor": 2
}
