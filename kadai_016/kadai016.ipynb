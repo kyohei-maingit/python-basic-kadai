{
 "cells": [
  {
   "cell_type": "code",
   "execution_count": 6,
   "metadata": {},
   "outputs": [
    {
     "name": "stdout",
     "output_type": "stream",
     "text": [
      "大人ではありません\n",
      "大人です\n"
     ]
    }
   ],
   "source": [
    "class Human:\n",
    "    def __init__(self, name, age):\n",
    "        self.name = name\n",
    "        self.age = age\n",
    "    \n",
    "    def check_adult(self):\n",
    "        if self.age >= 20:\n",
    "            print(\"大人です\")\n",
    "        else:\n",
    "            print(\"大人ではありません\")\n",
    "\n",
    "p1 = Human(\"山田\", 12)\n",
    "p2 = Human(\"関根\", 34)\n",
    "\n",
    "p_items = [p1, p2]\n",
    "\n",
    "for item in p_items:\n",
    "    item.check_adult()\n",
    "            "
   ]
  },
  {
   "cell_type": "code",
   "execution_count": null,
   "metadata": {},
   "outputs": [],
   "source": []
  }
 ],
 "metadata": {
  "kernelspec": {
   "display_name": "Python 3",
   "language": "python",
   "name": "python3"
  },
  "language_info": {
   "codemirror_mode": {
    "name": "ipython",
    "version": 3
   },
   "file_extension": ".py",
   "mimetype": "text/x-python",
   "name": "python",
   "nbconvert_exporter": "python",
   "pygments_lexer": "ipython3",
   "version": "3.13.1"
  }
 },
 "nbformat": 4,
 "nbformat_minor": 2
}
